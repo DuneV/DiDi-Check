{
 "cells": [
  {
   "cell_type": "code",
   "execution_count": 3,
   "metadata": {},
   "outputs": [],
   "source": [
    "import pywhatkit\n",
    "import pandas as pd\n",
    "import time\n",
    "import pyautogui as pg\n",
    "\n",
    "path = 'datosw2.csv'\n",
    "principal = pd.read_csv(path, delimiter=\";\")\n",
    "phones_numbers = principal.iloc[:,1]    \n",
    "counter = 0\n"
   ]
  },
  {
   "cell_type": "code",
   "execution_count": 4,
   "metadata": {},
   "outputs": [
    {
     "data": {
      "text/plain": [
       "0      573104700615\n",
       "1      573016626801\n",
       "2      573108111571\n",
       "3      573044964638\n",
       "4      573015703514\n",
       "           ...     \n",
       "836    573178387743\n",
       "837    573023952038\n",
       "838    573147321629\n",
       "839    573103566127\n",
       "840    573103436952\n",
       "Name: phones, Length: 841, dtype: int64"
      ]
     },
     "execution_count": 4,
     "metadata": {},
     "output_type": "execute_result"
    }
   ],
   "source": [
    "phones_numbers"
   ]
  },
  {
   "cell_type": "code",
   "execution_count": 10,
   "metadata": {},
   "outputs": [
    {
     "ename": "KeyboardInterrupt",
     "evalue": "",
     "output_type": "error",
     "traceback": [
      "\u001b[1;31m---------------------------------------------------------------------------\u001b[0m",
      "\u001b[1;31mKeyboardInterrupt\u001b[0m                         Traceback (most recent call last)",
      "Cell \u001b[1;32mIn[10], line 9\u001b[0m\n\u001b[0;32m      4\u001b[0m number_co \u001b[39m=\u001b[39m \u001b[39m\"\u001b[39m\u001b[39m+\u001b[39m\u001b[39m\"\u001b[39m \u001b[39m+\u001b[39m  number\n\u001b[0;32m      5\u001b[0m \u001b[39m\u001b[39m\u001b[39m'''pywhatkit.sendwhats_image(number_co, \"Hello.png\")\u001b[39;00m\n\u001b[0;32m      6\u001b[0m \u001b[39mtime.sleep(10)\u001b[39;00m\n\u001b[0;32m      7\u001b[0m \u001b[39mpg.hotkey('ctrl','w')\u001b[39;00m\n\u001b[0;32m      8\u001b[0m \u001b[39mtime.sleep(2)'''\u001b[39;00m\n\u001b[1;32m----> 9\u001b[0m pywhatkit\u001b[39m.\u001b[39;49msendwhatmsg_instantly(\n\u001b[0;32m     10\u001b[0m     phone_no \u001b[39m=\u001b[39;49m number_co,\n\u001b[0;32m     11\u001b[0m     message\u001b[39m=\u001b[39;49m\u001b[39m\"\u001b[39;49m\u001b[39m¡Ey, te extrañamos! Completa 30 solicitudes durante la semana y genera $300.000 EXTRA 💸 ¿Qué esperas? Incrementa tus ganancias y disfruta de soporte 24/7.\u001b[39;49m\u001b[39m\"\u001b[39;49m,\n\u001b[0;32m     12\u001b[0m )\n\u001b[0;32m     13\u001b[0m time\u001b[39m.\u001b[39msleep(\u001b[39m2\u001b[39m)\n\u001b[0;32m     14\u001b[0m pg\u001b[39m.\u001b[39mhotkey(\u001b[39m'\u001b[39m\u001b[39mctrl\u001b[39m\u001b[39m'\u001b[39m,\u001b[39m'\u001b[39m\u001b[39mw\u001b[39m\u001b[39m'\u001b[39m)\n",
      "File \u001b[1;32mc:\\Users\\User\\AppData\\Local\\Programs\\Python\\Python38\\lib\\site-packages\\pywhatkit\\whats.py:31\u001b[0m, in \u001b[0;36msendwhatmsg_instantly\u001b[1;34m(phone_no, message, wait_time, tab_close, close_time)\u001b[0m\n\u001b[0;32m     29\u001b[0m time\u001b[39m.\u001b[39msleep(\u001b[39m4\u001b[39m)\n\u001b[0;32m     30\u001b[0m pg\u001b[39m.\u001b[39mclick(core\u001b[39m.\u001b[39mWIDTH \u001b[39m/\u001b[39m \u001b[39m2\u001b[39m, core\u001b[39m.\u001b[39mHEIGHT \u001b[39m/\u001b[39m \u001b[39m2\u001b[39m)\n\u001b[1;32m---> 31\u001b[0m time\u001b[39m.\u001b[39;49msleep(wait_time \u001b[39m-\u001b[39;49m \u001b[39m4\u001b[39;49m)\n\u001b[0;32m     32\u001b[0m pg\u001b[39m.\u001b[39mpress(\u001b[39m\"\u001b[39m\u001b[39menter\u001b[39m\u001b[39m\"\u001b[39m)\n\u001b[0;32m     33\u001b[0m log\u001b[39m.\u001b[39mlog_message(_time\u001b[39m=\u001b[39mtime\u001b[39m.\u001b[39mlocaltime(), receiver\u001b[39m=\u001b[39mphone_no, message\u001b[39m=\u001b[39mmessage)\n",
      "\u001b[1;31mKeyboardInterrupt\u001b[0m: "
     ]
    }
   ],
   "source": [
    "for i in range(750):\n",
    "    number = phones_numbers[i+420]\n",
    "    number = str(int(number))\n",
    "    number_co = \"+\" +  number\n",
    "    '''pywhatkit.sendwhats_image(number_co, \"Hello.png\")\n",
    "    time.sleep(10)\n",
    "    pg.hotkey('ctrl','w')\n",
    "    time.sleep(2)'''\n",
    "    pywhatkit.sendwhatmsg_instantly(\n",
    "        phone_no = number_co,\n",
    "        message=\"¡Ey, te extrañamos! Completa 30 solicitudes durante la semana y genera $300.000 EXTRA 💸 ¿Qué esperas? Incrementa tus ganancias y disfruta de soporte 24/7.\",\n",
    "    )\n",
    "    time.sleep(2)\n",
    "    pg.hotkey('ctrl','w')\n",
    "    time.sleep(2)\n",
    "    counter += 1"
   ]
  },
  {
   "cell_type": "code",
   "execution_count": 11,
   "metadata": {},
   "outputs": [
    {
     "data": {
      "text/plain": [
       "777"
      ]
     },
     "execution_count": 11,
     "metadata": {},
     "output_type": "execute_result"
    }
   ],
   "source": [
    "counter"
   ]
  }
 ],
 "metadata": {
  "kernelspec": {
   "display_name": "Python 3",
   "language": "python",
   "name": "python3"
  },
  "language_info": {
   "codemirror_mode": {
    "name": "ipython",
    "version": 3
   },
   "file_extension": ".py",
   "mimetype": "text/x-python",
   "name": "python",
   "nbconvert_exporter": "python",
   "pygments_lexer": "ipython3",
   "version": "3.8.10"
  },
  "orig_nbformat": 4
 },
 "nbformat": 4,
 "nbformat_minor": 2
}
